{
  "nbformat": 4,
  "nbformat_minor": 0,
  "metadata": {
    "colab": {
      "name": "Day01.ipynb",
      "provenance": [],
      "collapsed_sections": [
        "ETHInT5_CUXU",
        "qcBbomfxCfgT"
      ],
      "authorship_tag": "ABX9TyOLbqZtoN2RvrSYfFr9k2bN",
      "include_colab_link": true
    },
    "kernelspec": {
      "name": "python3",
      "display_name": "Python 3"
    }
  },
  "cells": [
    {
      "cell_type": "markdown",
      "metadata": {
        "id": "view-in-github",
        "colab_type": "text"
      },
      "source": [
        "<a href=\"https://colab.research.google.com/github/JustinKuli/adventofcode2020/blob/main/days/01/Day01.ipynb\" target=\"_parent\"><img src=\"https://colab.research.google.com/assets/colab-badge.svg\" alt=\"Open In Colab\"/></a>"
      ]
    },
    {
      "cell_type": "markdown",
      "metadata": {
        "id": "ETHInT5_CUXU"
      },
      "source": [
        "# Data entry"
      ]
    },
    {
      "cell_type": "code",
      "metadata": {
        "id": "sKiaIAk7Cd-z"
      },
      "source": [
        "data = \"\"\"1408\r\n",
        "1335\r\n",
        "1648\r\n",
        "1458\r\n",
        "1627\r\n",
        "1928\r\n",
        "1967\r\n",
        "1827\r\n",
        "1606\r\n",
        "1569\r\n",
        "1893\r\n",
        "1866\r\n",
        "1768\r\n",
        "1795\r\n",
        "1264\r\n",
        "1684\r\n",
        "1552\r\n",
        "1343\r\n",
        "1917\r\n",
        "1675\r\n",
        "1731\r\n",
        "1800\r\n",
        "1413\r\n",
        "1879\r\n",
        "1664\r\n",
        "1350\r\n",
        "1694\r\n",
        "1372\r\n",
        "1851\r\n",
        "1743\r\n",
        "1735\r\n",
        "833\r\n",
        "748\r\n",
        "1265\r\n",
        "1885\r\n",
        "1874\r\n",
        "2007\r\n",
        "1661\r\n",
        "1895\r\n",
        "1537\r\n",
        "1622\r\n",
        "1355\r\n",
        "762\r\n",
        "1533\r\n",
        "1771\r\n",
        "1966\r\n",
        "1978\r\n",
        "1572\r\n",
        "1833\r\n",
        "1969\r\n",
        "1805\r\n",
        "1820\r\n",
        "1536\r\n",
        "1911\r\n",
        "2009\r\n",
        "1817\r\n",
        "1268\r\n",
        "1998\r\n",
        "1759\r\n",
        "2008\r\n",
        "2002\r\n",
        "1187\r\n",
        "1896\r\n",
        "1850\r\n",
        "1734\r\n",
        "1849\r\n",
        "1589\r\n",
        "1302\r\n",
        "444\r\n",
        "1280\r\n",
        "1590\r\n",
        "1959\r\n",
        "902\r\n",
        "1709\r\n",
        "1932\r\n",
        "1277\r\n",
        "1561\r\n",
        "1301\r\n",
        "1831\r\n",
        "1286\r\n",
        "1693\r\n",
        "1927\r\n",
        "1467\r\n",
        "1384\r\n",
        "1662\r\n",
        "1401\r\n",
        "716\r\n",
        "1634\r\n",
        "1785\r\n",
        "1801\r\n",
        "1380\r\n",
        "1971\r\n",
        "1292\r\n",
        "1828\r\n",
        "185\r\n",
        "1560\r\n",
        "1322\r\n",
        "1787\r\n",
        "1545\r\n",
        "1395\r\n",
        "1445\r\n",
        "1807\r\n",
        "1750\r\n",
        "1867\r\n",
        "1433\r\n",
        "1894\r\n",
        "1821\r\n",
        "1983\r\n",
        "1578\r\n",
        "1669\r\n",
        "1610\r\n",
        "1549\r\n",
        "1556\r\n",
        "1346\r\n",
        "1616\r\n",
        "1999\r\n",
        "1925\r\n",
        "1387\r\n",
        "1659\r\n",
        "1457\r\n",
        "1237\r\n",
        "1808\r\n",
        "69\r\n",
        "1906\r\n",
        "1449\r\n",
        "1723\r\n",
        "1974\r\n",
        "1919\r\n",
        "1914\r\n",
        "1338\r\n",
        "1305\r\n",
        "1347\r\n",
        "1903\r\n",
        "1929\r\n",
        "1712\r\n",
        "1607\r\n",
        "1400\r\n",
        "197\r\n",
        "1575\r\n",
        "1282\r\n",
        "1296\r\n",
        "1737\r\n",
        "1396\r\n",
        "2003\r\n",
        "1453\r\n",
        "1660\r\n",
        "1646\r\n",
        "1991\r\n",
        "1565\r\n",
        "1416\r\n",
        "1995\r\n",
        "1784\r\n",
        "1367\r\n",
        "1420\r\n",
        "1593\r\n",
        "1654\r\n",
        "1306\r\n",
        "1916\r\n",
        "1797\r\n",
        "1594\r\n",
        "1471\r\n",
        "1405\r\n",
        "1698\r\n",
        "1541\r\n",
        "1900\r\n",
        "1963\r\n",
        "1696\r\n",
        "1574\r\n",
        "1853\r\n",
        "511\r\n",
        "1603\r\n",
        "1889\r\n",
        "1940\r\n",
        "1843\r\n",
        "1979\r\n",
        "272\r\n",
        "1726\r\n",
        "1294\r\n",
        "1877\r\n",
        "1441\r\n",
        "1697\r\n",
        "1644\r\n",
        "1956\r\n",
        "1689\r\n",
        "1665\r\n",
        "1631\r\n",
        "1717\r\n",
        "1781\r\n",
        "1450\r\n",
        "1618\r\n",
        "1317\r\n",
        "1799\r\n",
        "1950\r\n",
        "1722\r\n",
        "1960\r\n",
        "1628\r\n",
        "1941\r\n",
        "1977\r\n",
        "1775\r\n",
        "1529\"\"\"\r\n",
        "data = data.split(\"\\n\")"
      ],
      "execution_count": 4,
      "outputs": []
    },
    {
      "cell_type": "markdown",
      "metadata": {
        "id": "qcBbomfxCfgT"
      },
      "source": [
        "# Data Transformation"
      ]
    },
    {
      "cell_type": "code",
      "metadata": {
        "colab": {
          "base_uri": "https://localhost:8080/"
        },
        "id": "RpoCWl1FCg-q",
        "outputId": "981564e2-89f4-4e65-a313-4e0fa9c7da33"
      },
      "source": [
        "data = [int(d) for d in data]\r\n",
        "data.sort()\r\n",
        "print(data)"
      ],
      "execution_count": 11,
      "outputs": [
        {
          "output_type": "stream",
          "text": [
            "[69, 185, 197, 272, 444, 511, 716, 748, 762, 833, 902, 1187, 1237, 1264, 1265, 1268, 1277, 1280, 1282, 1286, 1292, 1294, 1296, 1301, 1302, 1305, 1306, 1317, 1322, 1335, 1338, 1343, 1346, 1347, 1350, 1355, 1367, 1372, 1380, 1384, 1387, 1395, 1396, 1400, 1401, 1405, 1408, 1413, 1416, 1420, 1433, 1441, 1445, 1449, 1450, 1453, 1457, 1458, 1467, 1471, 1529, 1533, 1536, 1537, 1541, 1545, 1549, 1552, 1556, 1560, 1561, 1565, 1569, 1572, 1574, 1575, 1578, 1589, 1590, 1593, 1594, 1603, 1606, 1607, 1610, 1616, 1618, 1622, 1627, 1628, 1631, 1634, 1644, 1646, 1648, 1654, 1659, 1660, 1661, 1662, 1664, 1665, 1669, 1675, 1684, 1689, 1693, 1694, 1696, 1697, 1698, 1709, 1712, 1717, 1722, 1723, 1726, 1731, 1734, 1735, 1737, 1743, 1750, 1759, 1768, 1771, 1775, 1781, 1784, 1785, 1787, 1795, 1797, 1799, 1800, 1801, 1805, 1807, 1808, 1817, 1820, 1821, 1827, 1828, 1831, 1833, 1843, 1849, 1850, 1851, 1853, 1866, 1867, 1874, 1877, 1879, 1885, 1889, 1893, 1894, 1895, 1896, 1900, 1903, 1906, 1911, 1914, 1916, 1917, 1919, 1925, 1927, 1928, 1929, 1932, 1940, 1941, 1950, 1956, 1959, 1960, 1963, 1966, 1967, 1969, 1971, 1974, 1977, 1978, 1979, 1983, 1991, 1995, 1998, 1999, 2002, 2003, 2007, 2008, 2009]\n"
          ],
          "name": "stdout"
        }
      ]
    },
    {
      "cell_type": "markdown",
      "metadata": {
        "id": "4kJ42ipdCheS"
      },
      "source": [
        "# Part One"
      ]
    },
    {
      "cell_type": "code",
      "metadata": {
        "colab": {
          "base_uri": "https://localhost:8080/"
        },
        "id": "fN6QwRS4CjMy",
        "outputId": "d85a5d0a-07e6-4a48-d0c6-aa0e4f623775"
      },
      "source": [
        "def part_one(): \r\n",
        "    for i, lo in enumerate(data):\r\n",
        "        # Go backwards through the sorted data.\r\n",
        "        # Stop at `i` so that we don't check any pairs twice\r\n",
        "        for hi in data[:i:-1]:\r\n",
        "            sum = lo + hi\r\n",
        "            if sum < 2020:\r\n",
        "                # Since we're going backwards, all sums after this would be < 2020.\r\n",
        "                # So, we can just stop early.\r\n",
        "                break\r\n",
        "            if sum == 2020:\r\n",
        "                print(\"Part one answer:\", lo * hi)\r\n",
        "                return\r\n",
        "part_one()\r\n",
        "\r\n"
      ],
      "execution_count": 13,
      "outputs": [
        {
          "output_type": "stream",
          "text": [
            "Part one answer: 988771\n"
          ],
          "name": "stdout"
        }
      ]
    },
    {
      "cell_type": "markdown",
      "metadata": {
        "id": "U3k-rKBoCjvy"
      },
      "source": [
        "# Part Two"
      ]
    },
    {
      "cell_type": "code",
      "metadata": {
        "colab": {
          "base_uri": "https://localhost:8080/"
        },
        "id": "OVFJHPnLCkaS",
        "outputId": "3487c19f-5b05-4eaa-edae-22d859d4a8e0"
      },
      "source": [
        "def part_two():\r\n",
        "    # We'll move forwards through data with i and j, and not repeat pairs\r\n",
        "    for i, bot in enumerate(data):\r\n",
        "        for j, mid in enumerate(data[i+1:]):\r\n",
        "            psum = bot + mid\r\n",
        "            # top will move backwards through the data, like in part one\r\n",
        "            for top in data[:j+i:-1]:\r\n",
        "                sum = psum + top\r\n",
        "                if sum < 2020:\r\n",
        "                    break\r\n",
        "                if sum == 2020:\r\n",
        "                    print(\"Part two answer:\", bot * mid * top)\r\n",
        "                    return\r\n",
        "part_two()"
      ],
      "execution_count": 15,
      "outputs": [
        {
          "output_type": "stream",
          "text": [
            "Part two answer: 171933104\n"
          ],
          "name": "stdout"
        }
      ]
    },
    {
      "cell_type": "code",
      "metadata": {
        "id": "Il6ONNIlFfaP"
      },
      "source": [
        ""
      ],
      "execution_count": null,
      "outputs": []
    }
  ]
}